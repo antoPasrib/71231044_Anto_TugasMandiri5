{
 "cells": [
  {
   "cell_type": "code",
   "execution_count": 1,
   "id": "747e1818",
   "metadata": {},
   "outputs": [
    {
     "name": "stdout",
     "output_type": "stream",
     "text": [
      "Masukkan angka pertama: 6\n",
      "Masukkan angka kedua: 5\n",
      "6x5=6+6+6+6+6=30\n"
     ]
    }
   ],
   "source": [
    "def perkalian(a, b):\n",
    "    hasil = 0\n",
    "    for i in range(b):\n",
    "        hasil += a\n",
    "    return hasil\n",
    "\n",
    "a = int(input(\"Masukkan angka pertama: \"))\n",
    "b = int(input(\"Masukkan angka kedua: \"))\n",
    "\n",
    "hasil = perkalian(a, b)\n",
    "\n",
    "print(\"{}x{}=\".format(a, b), end=\"\")\n",
    "for i in range(b-1):\n",
    "    print(\"{}+\".format(a), end=\"\")\n",
    "print(\"{}={}\".format(a, hasil))"
   ]
  },
  {
   "cell_type": "code",
   "execution_count": 2,
   "id": "def8522d",
   "metadata": {},
   "outputs": [
    {
     "name": "stdout",
     "output_type": "stream",
     "text": [
      "Masukkan batas bawah: 10\n",
      "Masukkan batas atas: 30\n",
      "Deret ganjil dari 10 sampai 30 adalah: 11, 13, 15, 17, 19, 21, 23, 25, 27, 29\n"
     ]
    }
   ],
   "source": [
    "def ganjil(bawah, atas):\n",
    "    deret_ganjil = []\n",
    "    if bawah < atas:\n",
    "        for i in range(bawah, atas + 1):\n",
    "            if i % 2 != 0:\n",
    "                deret_ganjil.append(i)\n",
    "    else:\n",
    "        for i in range(bawah, atas - 1, -1):\n",
    "            if i % 2 != 0:\n",
    "                deret_ganjil.append(i)\n",
    "    return deret_ganjil\n",
    "\n",
    "bawah = int(input(\"Masukkan batas bawah: \"))\n",
    "atas = int(input(\"Masukkan batas atas: \"))\n",
    "\n",
    "hasil = ganjil(bawah, atas)\n",
    "if bawah < atas:\n",
    "    print(\"Deret ganjil dari {} sampai {} adalah: {}\".format(bawah, atas, \", \".join(map(str, hasil))))\n",
    "else:\n",
    "    print(\"Deret ganjil dari {} sampai {} adalah: {}\".format(atas, bawah, \", \".join(map(str, hasil))))\n"
   ]
  },
  {
   "cell_type": "code",
   "execution_count": 3,
   "id": "bd9c60f6",
   "metadata": {},
   "outputs": [
    {
     "name": "stdout",
     "output_type": "stream",
     "text": [
      "Masukkan jumlah mata kuliah: 6\n",
      "Masukkan nilai mata kuliah ke-1 (A/B/C/D): A\n",
      "Masukkan nilai mata kuliah ke-2 (A/B/C/D): B\n",
      "Masukkan nilai mata kuliah ke-3 (A/B/C/D): C\n",
      "Masukkan nilai mata kuliah ke-4 (A/B/C/D): A\n",
      "Masukkan nilai mata kuliah ke-5 (A/B/C/D): D\n",
      "Masukkan nilai mata kuliah ke-6 (A/B/C/D): C\n",
      "Indeks Prestasi Semester (IPS): 2.67\n"
     ]
    }
   ],
   "source": [
    "def hitung_ips(jumlah_matkul):\n",
    "    total_sks = jumlah_matkul * 3\n",
    "    total_bobot = 0\n",
    "\n",
    "    for i in range(jumlah_matkul):\n",
    "        nilai = input(f\"Masukkan nilai mata kuliah ke-{i+1} (A/B/C/D): \")\n",
    "        sks = 3\n",
    "\n",
    "        if nilai == 'A':\n",
    "            bobot = 4\n",
    "        elif nilai == 'B':\n",
    "            bobot = 3\n",
    "        elif nilai == 'C':\n",
    "            bobot = 2\n",
    "        elif nilai == 'D':\n",
    "            bobot = 1\n",
    "        else:\n",
    "            print(\"Nilai tidak valid. Harap masukkan nilai yang benar.\")\n",
    "            return None\n",
    "\n",
    "        total_bobot += bobot * sks\n",
    "\n",
    "    ips = total_bobot / total_sks\n",
    "    print(f\"Indeks Prestasi Semester (IPS): {ips:.2f}\")\n",
    "\n",
    "jumlah_matkul = int(input(\"Masukkan jumlah mata kuliah: \"))\n",
    "hitung_ips(jumlah_matkul)\n"
   ]
  },
  {
   "cell_type": "code",
   "execution_count": null,
   "id": "7b9bf32a",
   "metadata": {},
   "outputs": [],
   "source": []
  }
 ],
 "metadata": {
  "kernelspec": {
   "display_name": "Python 3 (ipykernel)",
   "language": "python",
   "name": "python3"
  },
  "language_info": {
   "codemirror_mode": {
    "name": "ipython",
    "version": 3
   },
   "file_extension": ".py",
   "mimetype": "text/x-python",
   "name": "python",
   "nbconvert_exporter": "python",
   "pygments_lexer": "ipython3",
   "version": "3.11.5"
  }
 },
 "nbformat": 4,
 "nbformat_minor": 5
}
